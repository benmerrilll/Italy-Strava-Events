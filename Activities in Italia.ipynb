{
 "cells": [
  {
   "cell_type": "markdown",
   "metadata": {},
   "source": [
    "# Strava Activities in Italy"
   ]
  },
  {
   "cell_type": "markdown",
   "metadata": {},
   "source": [
    "This is a VERY brief look at some simple data on some activities that I published on Strava when I was living in Catania, Italy and working with refugees. This notebook is a simple data exploration on these activities, with 2 visuals outlining my cycling and running patterns.\n",
    "\n",
    "To start, Let's import the libraries needed to examine the data "
   ]
  },
  {
   "cell_type": "code",
   "execution_count": 1,
   "metadata": {},
   "outputs": [
    {
     "data": {
      "text/plain": [
       "Index(['ID attività', 'Data dell’attività', 'Nome attività', 'Tipo attività',\n",
       "       'Tempo complessivo', 'Distanza', 'Spostamenti vari', 'Nome del file',\n",
       "       'Peso dell’atleta', 'Tempo in movimento', 'Distanza.1',\n",
       "       'Velocità massima', 'Dislivello complessivo', 'Dislivello minimo',\n",
       "       'Dislivello massimo', 'Pendenza massima', 'Pendenza media'],\n",
       "      dtype='object')"
      ]
     },
     "execution_count": 1,
     "metadata": {},
     "output_type": "execute_result"
    }
   ],
   "source": [
    "# Libraries\n",
    "import pandas as pd\n",
    "import matplotlib as mpl\n",
    "import matplotlib.pyplot as plt\n",
    "import numpy as np\n",
    "\n",
    "# Import data\n",
    "data = pd.read_csv('activities.csv', decimal=',')\n",
    "data = data.dropna(thresh=len(data) - 2, axis=1)\n",
    "data.columns"
   ]
  },
  {
   "cell_type": "code",
   "execution_count": 2,
   "metadata": {},
   "outputs": [
    {
     "name": "stdout",
     "output_type": "stream",
     "text": [
      "Shape of data:  (44, 17)\n"
     ]
    },
    {
     "data": {
      "text/html": [
       "<div>\n",
       "<style scoped>\n",
       "    .dataframe tbody tr th:only-of-type {\n",
       "        vertical-align: middle;\n",
       "    }\n",
       "\n",
       "    .dataframe tbody tr th {\n",
       "        vertical-align: top;\n",
       "    }\n",
       "\n",
       "    .dataframe thead th {\n",
       "        text-align: right;\n",
       "    }\n",
       "</style>\n",
       "<table border=\"1\" class=\"dataframe\">\n",
       "  <thead>\n",
       "    <tr style=\"text-align: right;\">\n",
       "      <th></th>\n",
       "      <th>ID attività</th>\n",
       "      <th>Data dell’attività</th>\n",
       "      <th>Nome attività</th>\n",
       "      <th>Tipo attività</th>\n",
       "      <th>Tempo complessivo</th>\n",
       "      <th>Distanza</th>\n",
       "      <th>Spostamenti vari</th>\n",
       "      <th>Nome del file</th>\n",
       "      <th>Peso dell’atleta</th>\n",
       "      <th>Tempo in movimento</th>\n",
       "      <th>Distanza.1</th>\n",
       "      <th>Velocità massima</th>\n",
       "      <th>Dislivello complessivo</th>\n",
       "      <th>Dislivello minimo</th>\n",
       "      <th>Dislivello massimo</th>\n",
       "      <th>Pendenza massima</th>\n",
       "      <th>Pendenza media</th>\n",
       "    </tr>\n",
       "  </thead>\n",
       "  <tbody>\n",
       "    <tr>\n",
       "      <th>0</th>\n",
       "      <td>1537701862</td>\n",
       "      <td>28 apr 2018, 19:39:53</td>\n",
       "      <td>Giro pomeridiano</td>\n",
       "      <td>Ciclismo</td>\n",
       "      <td>11974</td>\n",
       "      <td>53.82</td>\n",
       "      <td>False</td>\n",
       "      <td>activities/1537701862.gpx</td>\n",
       "      <td>0.0</td>\n",
       "      <td>9417.0</td>\n",
       "      <td>53824.30078125</td>\n",
       "      <td>14.399999618530273</td>\n",
       "      <td>693.3389282226562</td>\n",
       "      <td>1516.9000244140625</td>\n",
       "      <td>2134.800048828125</td>\n",
       "      <td>14.600000381469727</td>\n",
       "      <td>0.0</td>\n",
       "    </tr>\n",
       "    <tr>\n",
       "      <th>1</th>\n",
       "      <td>1541822998</td>\n",
       "      <td>30 apr 2018, 21:38:51</td>\n",
       "      <td>Primo giro del nord</td>\n",
       "      <td>Ciclismo</td>\n",
       "      <td>9682</td>\n",
       "      <td>52.27</td>\n",
       "      <td>False</td>\n",
       "      <td>activities/1541822998.gpx</td>\n",
       "      <td>0.0</td>\n",
       "      <td>8135.0</td>\n",
       "      <td>52278.6015625</td>\n",
       "      <td>12.699999809265137</td>\n",
       "      <td>257.2567138671875</td>\n",
       "      <td>1510.800048828125</td>\n",
       "      <td>1667.199951171875</td>\n",
       "      <td>10.699999809265137</td>\n",
       "      <td>-0.00019128285930491984</td>\n",
       "    </tr>\n",
       "    <tr>\n",
       "      <th>2</th>\n",
       "      <td>1558764452</td>\n",
       "      <td>08 mag 2018, 16:07:41</td>\n",
       "      <td>Giro mattutino</td>\n",
       "      <td>Ciclismo</td>\n",
       "      <td>11047</td>\n",
       "      <td>58.89</td>\n",
       "      <td>False</td>\n",
       "      <td>activities/1558764452.gpx</td>\n",
       "      <td>0.0</td>\n",
       "      <td>10466.0</td>\n",
       "      <td>58892.80078125</td>\n",
       "      <td>18.299999237060547</td>\n",
       "      <td>975.0481567382812</td>\n",
       "      <td>1516.9000244140625</td>\n",
       "      <td>2439.39990234375</td>\n",
       "      <td>20.799999237060547</td>\n",
       "      <td>0.0005094001535326242</td>\n",
       "    </tr>\n",
       "    <tr>\n",
       "      <th>3</th>\n",
       "      <td>1565541423</td>\n",
       "      <td>11 mag 2018, 19:11:52</td>\n",
       "      <td>Giro pomeridiano</td>\n",
       "      <td>Ciclismo</td>\n",
       "      <td>4219</td>\n",
       "      <td>23.24</td>\n",
       "      <td>False</td>\n",
       "      <td>activities/1565541423.gpx</td>\n",
       "      <td>0.0</td>\n",
       "      <td>3465.0</td>\n",
       "      <td>23239.80078125</td>\n",
       "      <td>11.100000381469727</td>\n",
       "      <td>103.75849914550781</td>\n",
       "      <td>1520.800048828125</td>\n",
       "      <td>1579.0</td>\n",
       "      <td>6.599999904632568</td>\n",
       "      <td>0.0</td>\n",
       "    </tr>\n",
       "    <tr>\n",
       "      <th>4</th>\n",
       "      <td>1645641516</td>\n",
       "      <td>18 giu 2018, 00:16:53</td>\n",
       "      <td>Sunday funday</td>\n",
       "      <td>Corsa</td>\n",
       "      <td>3463</td>\n",
       "      <td>10.66</td>\n",
       "      <td>False</td>\n",
       "      <td>activities/1645641516.gpx</td>\n",
       "      <td>0.0</td>\n",
       "      <td>3188.0</td>\n",
       "      <td>10661.2998046875</td>\n",
       "      <td>5.5</td>\n",
       "      <td>29.817325592041016</td>\n",
       "      <td>1512.699951171875</td>\n",
       "      <td>1529.300048828125</td>\n",
       "      <td>10.699999809265137</td>\n",
       "      <td>0.006565803196281195</td>\n",
       "    </tr>\n",
       "  </tbody>\n",
       "</table>\n",
       "</div>"
      ],
      "text/plain": [
       "   ID attività     Data dell’attività        Nome attività Tipo attività  \\\n",
       "0   1537701862  28 apr 2018, 19:39:53     Giro pomeridiano      Ciclismo   \n",
       "1   1541822998  30 apr 2018, 21:38:51  Primo giro del nord      Ciclismo   \n",
       "2   1558764452  08 mag 2018, 16:07:41       Giro mattutino      Ciclismo   \n",
       "3   1565541423  11 mag 2018, 19:11:52     Giro pomeridiano      Ciclismo   \n",
       "4   1645641516  18 giu 2018, 00:16:53        Sunday funday         Corsa   \n",
       "\n",
       "   Tempo complessivo  Distanza  Spostamenti vari              Nome del file  \\\n",
       "0              11974     53.82             False  activities/1537701862.gpx   \n",
       "1               9682     52.27             False  activities/1541822998.gpx   \n",
       "2              11047     58.89             False  activities/1558764452.gpx   \n",
       "3               4219     23.24             False  activities/1565541423.gpx   \n",
       "4               3463     10.66             False  activities/1645641516.gpx   \n",
       "\n",
       "  Peso dell’atleta Tempo in movimento        Distanza.1    Velocità massima  \\\n",
       "0              0.0             9417.0    53824.30078125  14.399999618530273   \n",
       "1              0.0             8135.0     52278.6015625  12.699999809265137   \n",
       "2              0.0            10466.0    58892.80078125  18.299999237060547   \n",
       "3              0.0             3465.0    23239.80078125  11.100000381469727   \n",
       "4              0.0             3188.0  10661.2998046875                 5.5   \n",
       "\n",
       "  Dislivello complessivo   Dislivello minimo Dislivello massimo  \\\n",
       "0      693.3389282226562  1516.9000244140625  2134.800048828125   \n",
       "1      257.2567138671875   1510.800048828125  1667.199951171875   \n",
       "2      975.0481567382812  1516.9000244140625   2439.39990234375   \n",
       "3     103.75849914550781   1520.800048828125             1579.0   \n",
       "4     29.817325592041016   1512.699951171875  1529.300048828125   \n",
       "\n",
       "     Pendenza massima           Pendenza media  \n",
       "0  14.600000381469727                      0.0  \n",
       "1  10.699999809265137  -0.00019128285930491984  \n",
       "2  20.799999237060547    0.0005094001535326242  \n",
       "3   6.599999904632568                      0.0  \n",
       "4  10.699999809265137     0.006565803196281195  "
      ]
     },
     "execution_count": 2,
     "metadata": {},
     "output_type": "execute_result"
    }
   ],
   "source": [
    "# Let's get a feeling for this data\n",
    "print('Shape of data: ', data.shape)\n",
    "data.head()"
   ]
  },
  {
   "cell_type": "markdown",
   "metadata": {},
   "source": [
    "It looks like we've got the world's small dataset! It looks I did about 44 events over the course of the two years on Strava. Let's take a look at some summary statistics.\n"
   ]
  },
  {
   "cell_type": "code",
   "execution_count": 3,
   "metadata": {},
   "outputs": [
    {
     "name": "stdout",
     "output_type": "stream",
     "text": [
      "       Tempo complessivo   Distanza  Peso dell’atleta  Tempo in movimento  \\\n",
      "count          44.000000  44.000000              42.0           44.000000   \n",
      "mean           83.949621  17.069091               0.0         3859.818182   \n",
      "std            68.772870  17.136309               0.0         3146.543975   \n",
      "min             6.750000   1.610000               0.0          405.000000   \n",
      "25%            26.745833   4.917500               0.0         1443.000000   \n",
      "50%            65.550000   9.895000               0.0         2909.500000   \n",
      "75%           115.679167  22.737500               0.0         5527.750000   \n",
      "max           327.650000  70.340000               0.0        15590.000000   \n",
      "\n",
      "         Distanza.1  Velocità massima  Dislivello complessivo  \\\n",
      "count     44.000000         44.000000               44.000000   \n",
      "mean   17072.154710         10.656818              236.724109   \n",
      "std    17136.320016          5.206677              339.771168   \n",
      "min     1611.900024          2.600000                7.658333   \n",
      "25%     4921.049927          5.575000               45.452693   \n",
      "50%     9897.899902         10.050000              120.339390   \n",
      "75%    22740.675781         14.525000              273.776062   \n",
      "max    70342.101562         24.600000             1923.893433   \n",
      "\n",
      "       Dislivello minimo  Dislivello massimo  Pendenza massima  Pendenza media  \n",
      "count          44.000000           44.000000         44.000000       44.000000  \n",
      "mean          589.011364          818.740913         18.143182       -0.284717  \n",
      "std           723.558152          808.758784         11.469340        1.259337  \n",
      "min            -4.700000           22.400000          4.500000       -5.071309  \n",
      "25%            21.475000          144.100006         10.700000       -0.194745  \n",
      "50%           133.400002          467.650009         14.300000       -0.008395  \n",
      "75%          1271.799988         1535.325043         21.174999        0.000000  \n",
      "max          2779.000000         3219.199951         50.000000        2.875679  \n"
     ]
    }
   ],
   "source": [
    "#Change time to be in minutes\n",
    "data['Tempo complessivo'] = data['Tempo complessivo'].astype('float64')/60\n",
    "\n",
    "#Pull out numerical columns\n",
    "stats = data[['Tempo complessivo', 'Distanza', 'Peso dell’atleta', 'Tempo in movimento', 'Distanza.1',\n",
    "              'Velocità massima', 'Dislivello complessivo', 'Dislivello minimo',\n",
    "              'Dislivello massimo', 'Pendenza massima', 'Pendenza media']].astype('float64').describe()\n",
    "print(stats)"
   ]
  },
  {
   "cell_type": "markdown",
   "metadata": {},
   "source": [
    "I looks like I tended to do about half runs and half rides, judging by the percentiles of of the 'Distanza' distance column, with an average amount of time of around an hour. A distance mean of 17.1 and median of 9.8 remind us that there is more than one type of activity in this dataset. Let's sort this dataset by activity to get a better feel of the distribution."
   ]
  },
  {
   "cell_type": "markdown",
   "metadata": {},
   "source": [
    "# Measuring Runs"
   ]
  },
  {
   "cell_type": "code",
   "execution_count": 4,
   "metadata": {},
   "outputs": [
    {
     "name": "stdout",
     "output_type": "stream",
     "text": [
      "Running Data\n",
      "       Tempo complessivo   Distanza  Peso dell’atleta  Tempo in movimento  \\\n",
      "count          25.000000  25.000000              25.0            25.00000   \n",
      "mean           49.891333   7.961600               0.0          2681.92000   \n",
      "std            40.194814   5.388457               0.0          2151.24979   \n",
      "min             6.750000   1.610000               0.0           405.00000   \n",
      "25%            22.883333   4.170000               0.0          1356.00000   \n",
      "50%            27.783333   5.410000               0.0          1643.00000   \n",
      "75%            78.233333  11.060000               0.0          4396.00000   \n",
      "max           155.083333  22.570000               0.0          8813.00000   \n",
      "\n",
      "         Distanza.1  Velocità massima  Dislivello complessivo  \\\n",
      "count     25.000000         25.000000               25.000000   \n",
      "mean    7965.032036          8.568000              118.153977   \n",
      "std     5387.631847          5.198695              132.408140   \n",
      "min     1611.900024          4.400000                7.658333   \n",
      "25%     4177.799805          5.300000               26.347252   \n",
      "50%     5417.200195          6.300000               63.445129   \n",
      "75%    11059.599609          8.800000              132.579483   \n",
      "max    22574.300781         24.600000              505.061859   \n",
      "\n",
      "       Dislivello minimo  Dislivello massimo  Pendenza massima  Pendenza media  \n",
      "count          25.000000           25.000000         25.000000       25.000000  \n",
      "mean          573.283996          681.872008         19.280000       -0.272926  \n",
      "std           639.124237          662.218677         12.281219        1.346564  \n",
      "min            -4.700000           22.400000          4.900000       -5.071309  \n",
      "25%            97.900002          163.800003         10.400000       -0.077785  \n",
      "50%           134.399994          290.000000         14.300000       -0.013752  \n",
      "75%          1189.400024         1366.099976         26.500000        0.000000  \n",
      "max          1680.199951         1939.000000         48.599998        2.875679  \n"
     ]
    }
   ],
   "source": [
    "#Mark elevation change as a float\n",
    "data['Dislivello complessivo'] = data['Dislivello complessivo'].astype('float64')\n",
    "\n",
    "#Sorting by activity type\n",
    "run = data[data['Tipo attività'] == 'Corsa']\n",
    "cycle = data[data['Tipo attività'] == 'Ciclismo']\n",
    "\n",
    "print('Running Data')\n",
    "print(run[['Tempo complessivo', 'Distanza', 'Peso dell’atleta', 'Tempo in movimento', 'Distanza.1',\n",
    "              'Velocità massima', 'Dislivello complessivo', 'Dislivello minimo',\n",
    "              'Dislivello massimo', 'Pendenza massima', 'Pendenza media']].astype('float64').describe())"
   ]
  },
  {
   "cell_type": "markdown",
   "metadata": {},
   "source": [
    "The running data shows that most runs were between 20 and 80 minutes, with the longest at 2 1/2 hours. We also see that most runs were around 5km with a reasonably consistent pace. Very few runs had a large altitude change 'Dislivello complessivo'.\n",
    "\n",
    "Let's plot a quick view of the runs, comparing distance, elevation, and time, to better understand the distribution."
   ]
  },
  {
   "cell_type": "code",
   "execution_count": 5,
   "metadata": {},
   "outputs": [
    {
     "data": {
      "text/plain": [
       "Text(0.5, 1.0, 'Running Distances')"
      ]
     },
     "execution_count": 5,
     "metadata": {},
     "output_type": "execute_result"
    },
    {
     "data": {
      "image/png": "[encoded data removed]",
      "text/plain": [
       "<Figure size 1440x720 with 2 Axes>"
      ]
     },
     "metadata": {
      "needs_background": "light"
     },
     "output_type": "display_data"
    }
   ],
   "source": [
    "#Clearly we need to turn this into English, but we can have some fun none the less\n",
    "cm =plt.cm.get_cmap('Wistia')\n",
    "\n",
    "fig, ax = plt.subplots(figsize=(20, 10))\n",
    "scatter = ax.scatter(x=run['Tempo complessivo'], y=run['Distanza'], c=run['Dislivello complessivo'], s=500, cmap=cm)\n",
    "fig.colorbar(scatter, label='Elevation Change (Meters)')\n",
    "ax.set_xlabel('Time (minutes)')\n",
    "ax.set_ylabel('Total Distance (km)')\n",
    "ax.set_title('Running Distances')"
   ]
  },
  {
   "cell_type": "markdown",
   "metadata": {},
   "source": [
    "We can see that the data is quite skew to the right, with most runs at or below 5k, but a few really long runs with a high elevation change.\n",
    "\n",
    "# Measuring Cycle Rides\n",
    "\n",
    "We will use the same methodology as running here."
   ]
  },
  {
   "cell_type": "code",
   "execution_count": 6,
   "metadata": {},
   "outputs": [
    {
     "name": "stdout",
     "output_type": "stream",
     "text": [
      "Cycling Data\n",
      "       Tempo complessivo   Distanza  Peso dell’atleta  Tempo in movimento  \\\n",
      "count          17.000000  17.000000              17.0           17.000000   \n",
      "mean          132.037255  31.958235               0.0         5561.352941   \n",
      "std            76.030920  18.979875               0.0         3772.919740   \n",
      "min            29.183333   6.990000               0.0         1086.000000   \n",
      "25%            89.366667  17.140000               0.0         2895.000000   \n",
      "50%           111.783333  29.280000               0.0         5041.000000   \n",
      "75%           177.016667  43.420000               0.0         6813.000000   \n",
      "max           327.650000  70.340000               0.0        15590.000000   \n",
      "\n",
      "         Distanza.1  Velocità massima  Dislivello complessivo  \\\n",
      "count     17.000000         17.000000               17.000000   \n",
      "mean   31960.865091         14.476471              419.673275   \n",
      "std    18980.813952          2.141416              472.517264   \n",
      "min     6990.899902         11.100000               11.678770   \n",
      "25%    17140.500000         12.900000              122.031281   \n",
      "50%    29282.699219         14.400000              257.256714   \n",
      "75%    43423.000000         16.200001              503.826111   \n",
      "max    70342.101562         18.299999             1923.893433   \n",
      "\n",
      "       Dislivello minimo  Dislivello massimo  Pendenza massima  Pendenza media  \n",
      "count          17.000000           17.000000         17.000000       17.000000  \n",
      "mean          667.847066         1085.264703         15.105882       -0.337392  \n",
      "std           870.611692          974.816645          6.882448        1.236063  \n",
      "min             4.100000          140.199997          4.500000       -4.462987  \n",
      "25%            15.700000          144.100006         12.000000       -0.265007  \n",
      "50%           133.300003          839.299988         14.300000       -0.000711  \n",
      "75%          1516.900024         1683.800049         16.400000        0.000509  \n",
      "max          2779.000000         3219.199951         36.400002        1.635956  \n"
     ]
    }
   ],
   "source": [
    "#Printing the description of cycling data\n",
    "print('Cycling Data')\n",
    "print(cycle[['Tempo complessivo', 'Distanza', 'Peso dell’atleta', 'Tempo in movimento', 'Distanza.1',\n",
    "              'Velocità massima', 'Dislivello complessivo', 'Dislivello minimo',\n",
    "              'Dislivello massimo', 'Pendenza massima', 'Pendenza media']].astype('float64').describe())"
   ]
  },
  {
   "cell_type": "code",
   "execution_count": 7,
   "metadata": {},
   "outputs": [
    {
     "data": {
      "text/plain": [
       "Text(0.5, 1.0, 'Cycling Distances')"
      ]
     },
     "execution_count": 7,
     "metadata": {},
     "output_type": "execute_result"
    },
    {
     "data": {
      "image/png": "[encoded data removed]",
      "text/plain": [
       "<Figure size 1440x720 with 2 Axes>"
      ]
     },
     "metadata": {
      "needs_background": "light"
     },
     "output_type": "display_data"
    }
   ],
   "source": [
    "# Comparing distance, elevation, and time\n",
    "cm =plt.cm.get_cmap('Wistia')\n",
    "\n",
    "fig, ax = plt.subplots(figsize=(20, 10))\n",
    "scatter = ax.scatter(x=cycle['Tempo complessivo'], y=cycle['Distanza'], c=cycle['Dislivello complessivo'], s=500, cmap=cm)\n",
    "fig.colorbar(scatter, label='Elevation Change (Meters)')\n",
    "ax.set_xlabel('Time (Minutes)')\n",
    "ax.set_ylabel('Total Distance')\n",
    "ax.set_title('Cycling Distances')"
   ]
  },
  {
   "cell_type": "markdown",
   "metadata": {},
   "source": [
    "Here we see a similar distribution on cycle rides as running, but with one outlier with a high time and total distance. I will always remember this as one of the hardest rides of my life, cycling up to mount Etna in Sicily (https://www.visitsicily.info/en/il-monte-etna-2/) towards a famous tourist spot called Rifugio Sapienza\n",
    "\n",
    "# Conclusion\n",
    "I enjoyed this fun, brief look at my own strava data, better understanding some of the trends that exist in my exercise habits. I conclude that most of the time, I enjoy going moderate distances around 5k running, and around 30k biking, but on occasion like to push it to longer runs and rides. Thanks for joining me on this small journey through the world's smallest dataset!"
   ]
  },
  {
   "cell_type": "code",
   "execution_count": null,
   "metadata": {},
   "outputs": [],
   "source": []
  }
 ],
 "metadata": {
  "kernelspec": {
   "display_name": "Python 3",
   "language": "python",
   "name": "python3"
  },
  "language_info": {
   "codemirror_mode": {
    "name": "ipython",
    "version": 3
   },
   "file_extension": ".py",
   "mimetype": "text/x-python",
   "name": "python",
   "nbconvert_exporter": "python",
   "pygments_lexer": "ipython3",
   "version": "3.8.3"
  }
 },
 "nbformat": 4,
 "nbformat_minor": 4
}
